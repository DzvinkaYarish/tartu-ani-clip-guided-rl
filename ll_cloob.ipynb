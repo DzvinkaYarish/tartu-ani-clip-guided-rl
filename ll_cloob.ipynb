{
 "cells": [
  {
   "cell_type": "code",
   "execution_count": null,
   "outputs": [],
   "source": [
    "import os\n",
    "import json\n",
    "\n",
    "import gym\n",
    "import torch\n",
    "import numpy as np\n",
    "from stable_baselines3 import DQN\n",
    "from PIL import Image\n",
    "from tensorboardX import SummaryWriter\n",
    "import scipy.stats as stats\n",
    "import matplotlib.pyplot as plt\n",
    "\n",
    "import cloob.clip as clip\n",
    "from cloob.clip import _transform\n",
    "from cloob.model import CLIPGeneral\n",
    "import cloob.zeroshot_data as zeroshot_data"
   ],
   "metadata": {
    "collapsed": false,
    "pycharm": {
     "name": "#%%\n"
    }
   }
  },
  {
   "cell_type": "code",
   "execution_count": null,
   "outputs": [],
   "source": [
    "device = torch.device(\"cuda:0\" if torch.cuda.is_available() else \"cpu\")\n",
    "print(\"Device is \", device)"
   ],
   "metadata": {
    "collapsed": false,
    "pycharm": {
     "name": "#%%\n"
    }
   }
  },
  {
   "cell_type": "code",
   "execution_count": null,
   "metadata": {
    "collapsed": true,
    "pycharm": {
     "name": "#%%\n"
    }
   },
   "outputs": [],
   "source": [
    "class CLOOBEnv:\n",
    "    def __init__(self, env, cloob_model, cloob_preprocess, tokenizer, prompt, writer):\n",
    "        self.env = env\n",
    "\n",
    "        self.model = cloob_model\n",
    "        self.preprocess = cloob_preprocess\n",
    "        self.tokenizer = tokenizer\n",
    "\n",
    "        class_embeddings = self.model.encode_text(self.tokenizer(prompt))\n",
    "        class_embeddings /= class_embeddings.norm(dim=-1, keepdim=True)\n",
    "        class_embedding = class_embeddings.mean(dim=0)\n",
    "        class_embedding /= class_embedding.norm()\n",
    "        self.text_features = class_embedding\n",
    "\n",
    "        self.action_space = self.env.action_space\n",
    "        self.observation_space = self.env.observation_space\n",
    "        self.metadata = self.env.metadata\n",
    "\n",
    "        self.cloob_rewards_per_episode = []\n",
    "        self.env_rewards_per_episode = []\n",
    "\n",
    "        self.cloob_rewards = []\n",
    "        self.env_rewards = []\n",
    "\n",
    "        self.writer = writer\n",
    "        self.n_steps = 0\n",
    "        self.n_episodes = 0\n",
    "\n",
    "    def reset(self):\n",
    "        return self.env.reset()\n",
    "\n",
    "    def close(self):\n",
    "        return self.env.close()\n",
    "\n",
    "    def step(self, action):\n",
    "        next_st, rwd, done, info = self.env.step(action)\n",
    "        img = self.env.render(mode=\"rgb_array\")\n",
    "        cloob_rwd = self.get_cloob_reward(img)\n",
    "\n",
    "        self.cloob_rewards_per_episode.append(cloob_rwd)\n",
    "        self.env_rewards_per_episode.append(rwd)\n",
    "\n",
    "        if done:\n",
    "            self.writer.add_scalar('episode_rewards/env_reward',  sum(self.env_rewards_per_episode), self.n_episodes)\n",
    "            self.writer.add_scalar('episode_rewards/cloob_reward', sum(self.cloob_rewards_per_episode), self.n_episodes)\n",
    "\n",
    "            self.env_rewards.append(self.env_rewards_per_episode)\n",
    "            self.cloob_rewards.append(self.cloob_rewards_per_episode)\n",
    "\n",
    "            self.env_rewards_per_episode = []\n",
    "            self.cloob_rewards_per_episode = []\n",
    "\n",
    "            self.n_episodes += 1\n",
    "\n",
    "        self.n_steps += 1\n",
    "\n",
    "        return next_st, rwd, done, info\n",
    "\n",
    "    def get_cloob_reward(self, state):\n",
    "        with torch.no_grad():\n",
    "            image = self.preprocess(Image.fromarray(np.uint8(state)))\n",
    "            image_features = self.model.encode_image(image.unsqueeze(0))\n",
    "            image_features /= image_features.norm(dim=-1, keepdim=True)\n",
    "            sim = (image_features @ self.text_features) * 30 # we scale by 30 just so the difference is more stark\n",
    "        return sim.numpy()[0]"
   ]
  },
  {
   "cell_type": "code",
   "execution_count": null,
   "outputs": [],
   "source": [
    "def run_exp(agent, env, prompt, clip_model_name, env_name, exp_path, n_steps, notes=''):\n",
    "    if not os.path.exists(exp_path):\n",
    "        os.mkdir(exp_path)\n",
    "\n",
    "    agent.learn(total_timesteps=n_steps, progress_bar=True)\n",
    "    agent.save(f\"{exp_path}/agent\")\n",
    "\n",
    "    corr = stats.pearsonr([sum(e) for e in env.env_rewards], [sum(e) for e in env.cloob_rewards])[0]\n",
    "    m_rwd = np.mean([sum(e) for e in env.env_rewards[-10:]])\n",
    "    results = {\n",
    "        'env_name': env_name,\n",
    "        'prompt': prompt,\n",
    "        'clip_model_name': clip_model_name,\n",
    "        'correlation': corr,\n",
    "        'mean_env_rwd_over_last_10_episodes': m_rwd,\n",
    "        'n_episodes': env.n_episodes,\n",
    "        'n_steps': env.n_steps,\n",
    "         'notes': notes,\n",
    "    }\n",
    "    with open(f'{exp_path}/results.json', 'w') as f:\n",
    "        json.dump(results, f)\n",
    "\n",
    "    # compute correlation between env and clip rewards for each episode separately\n",
    "    per_episode_corr = [stats.pearsonr(e, c)[0] for e, c in zip(env.env_rewards, env.cloob_rewards)]\n",
    "    for i in range(env.n_episodes):\n",
    "        env.writer.add_scalar('Per episode correlation', per_episode_corr[i], i)"
   ],
   "metadata": {
    "collapsed": false,
    "pycharm": {
     "name": "#%%\n"
    }
   }
  },
  {
   "cell_type": "code",
   "execution_count": null,
   "outputs": [],
   "source": [
    "# Load CLOOB\n",
    "checkpoint_path = './checkpoints/cloob_rn50_yfcc_epoch_28.pt'\n",
    "configs_path = './cloob/model_configs/'\n",
    "\n",
    "checkpoint = torch.load(checkpoint_path, map_location=device)\n",
    "model_config_file = os.path.join(configs_path, checkpoint['model_config_file'])\n",
    "\n",
    "print('Loading model from', model_config_file)\n",
    "assert os.path.exists(model_config_file)\n",
    "with open(model_config_file, 'r') as f:\n",
    "    model_info = json.load(f)\n",
    "cloob_model = CLIPGeneral(**model_info)\n",
    "cloob_preprocess= _transform(cloob_model.visual.input_resolution, is_train=False)\n",
    "\n",
    "if not torch.cuda.is_available():\n",
    "    cloob_model.float()\n",
    "else:\n",
    "    cloob_model.to(device)\n",
    "\n",
    "sd = checkpoint[\"state_dict\"]\n",
    "sd = {k[len('module.'):]: v for k, v in sd.items()}\n",
    "if 'logit_scale_hopfield' in sd:\n",
    "    sd.pop('logit_scale_hopfield', None)\n",
    "cloob_model.load_state_dict(sd)\n",
    "cloob_model.eval()"
   ],
   "metadata": {
    "collapsed": false,
    "pycharm": {
     "name": "#%%\n"
    }
   }
  },
  {
   "cell_type": "code",
   "execution_count": null,
   "outputs": [],
   "source": [
    "!mkdir experiments"
   ],
   "metadata": {
    "collapsed": false,
    "pycharm": {
     "name": "#%%\n"
    }
   }
  },
  {
   "cell_type": "code",
   "execution_count": null,
   "outputs": [],
   "source": [
    "%load_ext tensorboard\n",
    "%tensorboard --logdir /content/experiments/first_run"
   ],
   "metadata": {
    "collapsed": false,
    "pycharm": {
     "name": "#%%\n"
    }
   }
  },
  {
   "cell_type": "code",
   "execution_count": null,
   "outputs": [],
   "source": [
    "!tensorboard --logdir 'experiments/first_run/' --host 0.0.0.0 --port 6006"
   ],
   "metadata": {
    "collapsed": false,
    "pycharm": {
     "name": "#%%\n"
    }
   }
  },
  {
   "cell_type": "code",
   "execution_count": null,
   "outputs": [],
   "source": [
    "EXP_PATH = 'experiments/first_run/'\n",
    "ENV_NAME = 'LunarLander-v2'\n",
    "N_STEPS = 20000\n",
    "\n",
    "env = gym.make(ENV_NAME)\n",
    "prompt = 'Spaceship is on the landing pad'\n",
    "writer = SummaryWriter(EXP_PATH)\n",
    "\n",
    "cl_env = CLOOBEnv(env, cloob_model, cloob_preprocess, clip.tokenizer, prompt, writer)\n",
    "\n",
    "agent = DQN('MlpPolicy', cl_env, verbose=0, learning_starts=1000, buffer_size=15000, target_update_interval=500)\n",
    "run_exp(agent, cl_env, prompt, 'cloob_rn50_yfcc_epoch_28', ENV_NAME, EXP_PATH, N_STEPS, 'all additional info about experiment goes here')"
   ],
   "metadata": {
    "collapsed": false,
    "pycharm": {
     "name": "#%%\n"
    }
   }
  }
 ],
 "metadata": {
  "kernelspec": {
   "display_name": "Python 3",
   "language": "python",
   "name": "python3"
  },
  "language_info": {
   "codemirror_mode": {
    "name": "ipython",
    "version": 2
   },
   "file_extension": ".py",
   "mimetype": "text/x-python",
   "name": "python",
   "nbconvert_exporter": "python",
   "pygments_lexer": "ipython2",
   "version": "2.7.6"
  }
 },
 "nbformat": 4,
 "nbformat_minor": 0
}