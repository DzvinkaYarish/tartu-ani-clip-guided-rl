{
 "cells": [
  {
   "cell_type": "markdown",
   "id": "a3fa1a94-14ff-4b0a-a918-d4e5f69b28c5",
   "metadata": {},
   "source": [
    "```bash\n",
    "conda create --name ani python=3.8\n",
    "conda install -c conda-forge jupyterlab\n",
    "pip install open_clip_torch\n",
    "pip install stable-baselines3[extra]\n",
    "pip install gym[all]\n",
    "pip install pyglet==1.5.27\n",
    "pip install tensorboardX\n",
    "conda install -c anaconda ipywidgets\n",
    "conda install -c anaconda scipy \n",
    "```"
   ]
  },
  {
   "cell_type": "markdown",
   "id": "01be7f60-1cd4-4afb-8829-342980047596",
   "metadata": {},
   "source": [
    "## Experiments\n",
    " - 2 environments: CartPole and LunarLander\n",
    " - clip models: openclip https://github.com/mlfoundations/open_clip(different models), cloob https://github.com/ml-jku/cloob\n",
    " - different prompts\n",
    "     - try several prompts at the same time which describe different states and then the rwd is formulated based on to which prompt the env image is most similar\n",
    "     - ...\n"
   ]
  },
  {
   "cell_type": "code",
   "execution_count": 1,
   "id": "2ee8f09a-40c5-4e52-bb46-75dc38d96a05",
   "metadata": {},
   "outputs": [
    {
     "name": "stderr",
     "output_type": "stream",
     "text": [
      "/home/dyari/anaconda3/envs/ani/lib/python3.8/site-packages/scipy/__init__.py:146: UserWarning: A NumPy version >=1.16.5 and <1.23.0 is required for this version of SciPy (detected version 1.23.1\n",
      "  warnings.warn(f\"A NumPy version >={np_minversion} and <{np_maxversion}\"\n"
     ]
    }
   ],
   "source": [
    "import gym\n",
    "from stable_baselines3 import DQN\n",
    "import open_clip\n",
    "from PIL import Image\n",
    "import torch\n",
    "import numpy as np\n",
    "from tensorboardX import SummaryWriter\n",
    "import os\n",
    "import scipy.stats as stats\n",
    "import json\n",
    "import matplotlib.pyplot as plt"
   ]
  },
  {
   "cell_type": "code",
   "execution_count": 2,
   "id": "49ec5a4f",
   "metadata": {},
   "outputs": [],
   "source": [
    "def disable_view_window():\n",
    "        from gym.envs.classic_control import rendering\n",
    "        org_constructor = rendering.Viewer.__init__\n",
    "\n",
    "        def constructor(self, *args, **kwargs):\n",
    "            org_constructor(self, *args, **kwargs)\n",
    "            self.window.set_visible(visible=False)\n",
    "\n",
    "        rendering.Viewer.__init__ = constructor"
   ]
  },
  {
   "cell_type": "code",
   "execution_count": 3,
   "id": "741daef3",
   "metadata": {},
   "outputs": [],
   "source": [
    "disable_view_window()"
   ]
  },
  {
   "cell_type": "code",
   "execution_count": 4,
   "id": "03579506-1dc0-4fbe-b6d8-b9bc6ad250fe",
   "metadata": {},
   "outputs": [],
   "source": [
    "class CLIPEnv():\n",
    "    def __init__(self, env, clip_model, clip_preprocess, tokenizer, prompt, writer):\n",
    "        self.env = env\n",
    "        self.model = clip_model\n",
    "        self.preprocess = clip_preprocess\n",
    "        self.tokenizer = tokenizer\n",
    "        self.text_features = self.model.encode_text(self.tokenizer([prompt]))\n",
    "        self.text_features /= self.text_features.norm(dim=-1, keepdim=True)\n",
    "        self.action_space = self.env.action_space\n",
    "        self.observation_space = self.env.observation_space\n",
    "        self.metadata = self.env.metadata\n",
    "        self.clip_rewards_per_episode = []\n",
    "        self.env_rewards_per_episode = []\n",
    "        \n",
    "        self.clip_rewards = []\n",
    "        self.env_rewards = []\n",
    "        \n",
    "        self.writer = writer\n",
    "        self.n_steps = 0\n",
    "        self.n_episodes = 0\n",
    "\n",
    "    \n",
    "    def reset(self):\n",
    "        return self.env.reset()\n",
    "    \n",
    "    def close(self):\n",
    "        return self.env.close()\n",
    "    \n",
    "    def step(self, action):\n",
    "        next_st, rwd, done, info = self.env.step(action)\n",
    "        img = self.env.render(mode=\"rgb_array\")\n",
    "        clip_rwd = self.get_clip_reward(img)\n",
    "        \n",
    "        self.clip_rewards_per_episode.append(clip_rwd)\n",
    "        self.env_rewards_per_episode.append(rwd)\n",
    "        \n",
    "     \n",
    "        if done:\n",
    "            self.writer.add_scalar('episode_rewards/env_reward',  sum(self.env_rewards_per_episode), self.n_episodes)\n",
    "            self.writer.add_scalar('episode_rewards/clip_reward', sum(self.clip_rewards_per_episode) , self.n_episodes)\n",
    "            \n",
    "            self.env_rewards.append(self.env_rewards_per_episode)\n",
    "            self.clip_rewards.append(self.clip_rewards_per_episode)\n",
    "\n",
    "            self.env_rewards_per_episode = []\n",
    "            self.clip_rewards_per_episode = []\n",
    "            \n",
    "            self.n_episodes += 1\n",
    "            \n",
    "        \n",
    "        self.n_steps += 1\n",
    "\n",
    "        return next_st, rwd, done, info\n",
    "    \n",
    "    def get_clip_reward(self, state):\n",
    "        image = self.preprocess(Image.fromarray(np.uint8(state))).unsqueeze(0)\n",
    "        with torch.no_grad(), torch.cuda.amp.autocast():\n",
    "            image_features = self.model.encode_image(image)\n",
    "            image_features /= image_features.norm(dim=-1, keepdim=True)\n",
    "            sim = (image_features @ self.text_features.T)\n",
    "        return sim.cpu().detach().numpy()[0][0]"
   ]
  },
  {
   "cell_type": "code",
   "execution_count": 7,
   "id": "2c9f0393-6e67-4f26-a621-603a1a731dd2",
   "metadata": {},
   "outputs": [
    {
     "name": "stdout",
     "output_type": "stream",
     "text": [
      "mkdir: cannot create directory ‘experiments’: File exists\n"
     ]
    }
   ],
   "source": [
    "!mkdir experiments"
   ]
  },
  {
   "cell_type": "code",
   "execution_count": 5,
   "id": "eb0acfd6-3d91-48cf-856a-ce30ea2eb63a",
   "metadata": {},
   "outputs": [],
   "source": [
    "def run_exp(agent, env, prompt, clip_model_name, env_name, exp_path, n_steps, notes=''):\n",
    "    if not os.path.exists(exp_path):\n",
    "        os.mkdir(exp_path)\n",
    "\n",
    "    \n",
    "    agent.learn(total_timesteps=n_steps, progress_bar=True)\n",
    "    agent.save(f\"{exp_path}/agent\")\n",
    "    \n",
    "    corr = stats.pearsonr([sum(e) for e in env.env_rewards], [sum(e) for e in env.clip_rewards])[0]\n",
    "    m_rwd = np.mean([sum(e) for e in env.env_rewards[-10:]])\n",
    "    results = {\n",
    "        'env_name': env_name,\n",
    "        'prompt': prompt,\n",
    "        'clip_model_name': clip_model_name,\n",
    "        'correlation': corr,\n",
    "        'mean_env_rwd_over_last_10_episodes': m_rwd,\n",
    "        'n_episodes': env.n_episodes,\n",
    "        'n_steps': env.n_steps,\n",
    "         'notes': notes,\n",
    "    }\n",
    "    with open(f'{exp_path}/results.json', 'w') as f:\n",
    "        json.dump(results, f)\n",
    "    \n",
    "    # compute correlation between env and clip rewards for each episode separately\n",
    "    per_episode_corr = [stats.pearsonr(e, c)[0] for e, c in zip(env.env_rewards, env.clip_rewards)]\n",
    "    for i in range(env.n_episodes):\n",
    "        env.writer.add_scalar('Per episode correlation', per_episode_corr[i], i)"
   ]
  },
  {
   "cell_type": "code",
   "execution_count": 6,
   "id": "c17a577c-3f55-40cc-9730-9e80b721dd83",
   "metadata": {},
   "outputs": [],
   "source": [
    "model, _, preprocess = open_clip.create_model_and_transforms('ViT-B-32-quickgelu', pretrained='laion400m_e32')\n",
    "tokenizer = open_clip.get_tokenizer('ViT-B-32-quickgelu')"
   ]
  },
  {
   "cell_type": "code",
   "execution_count": null,
   "id": "c21621cb-7d5d-4ed0-8ceb-d2d1b2415ef9",
   "metadata": {
    "tags": []
   },
   "outputs": [
    {
     "data": {
      "text/html": [
       "<pre style=\"white-space:pre;overflow-x:auto;line-height:normal;font-family:Menlo,'DejaVu Sans Mono',consolas,'Courier New',monospace\"><span style=\"color: #800080; text-decoration-color: #800080\">   2%</span> <span style=\"color: #f92672; text-decoration-color: #f92672\">━</span><span style=\"color: #3a3a3a; text-decoration-color: #3a3a3a\">╺━━━━━━━━━━━━━━━━━━━━━━━━━━━━━━━━━━━━━━━━━━━━━━━━━━━━━━━━━━━━━━━━</span> <span style=\"color: #008000; text-decoration-color: #008000\">390/20,000 </span> [ <span style=\"color: #808000; text-decoration-color: #808000\">0:00:52</span> &lt; <span style=\"color: #008080; text-decoration-color: #008080\">0:49:39</span> , <span style=\"color: #800000; text-decoration-color: #800000\">7 it/s</span> ]\n",
       "</pre>\n"
      ],
      "text/plain": [
       "\u001b[35m   2%\u001b[0m \u001b[38;2;249;38;114m━\u001b[0m\u001b[38;5;237m╺\u001b[0m\u001b[38;5;237m━━━━━━━━━━━━━━━━━━━━━━━━━━━━━━━━━━━━━━━━━━━━━━━━━━━━━━━━━━━━━━━━\u001b[0m \u001b[32m390/20,000 \u001b[0m [ \u001b[33m0:00:52\u001b[0m < \u001b[36m0:49:39\u001b[0m , \u001b[31m7 it/s\u001b[0m ]\n"
      ]
     },
     "metadata": {},
     "output_type": "display_data"
    }
   ],
   "source": [
    "EXP_PATH = 'experiments/first_run/'\n",
    "ENV_NAME = 'LunarLander-v2'\n",
    "N_STEPS = 20000\n",
    "\n",
    "env = gym.make(ENV_NAME)\n",
    "prompt = 'Spaceship is on the landing pad'\n",
    "writer = SummaryWriter(EXP_PATH)\n",
    "\n",
    "cl_env = CLIPEnv(env, model, preprocess, tokenizer, prompt, writer)\n",
    "\n",
    "\n",
    "agent = DQN('MlpPolicy', cl_env, verbose=0, learning_starts=1000, buffer_size=15000, target_update_interval=500)\n",
    "run_exp(agent, cl_env, prompt, 'open_clip_ViT-B-32-quickgelu', ENV_NAME, EXP_PATH, N_STEPS,\n",
    "        'all additional info about experiment goes here')"
   ]
  },
  {
   "cell_type": "markdown",
   "id": "0de59dde-4c54-4fed-8a9b-bae872c2963d",
   "metadata": {},
   "source": [
    "# Evaluate the trained agent"
   ]
  },
  {
   "cell_type": "code",
   "execution_count": 24,
   "id": "ecbc0d6a",
   "metadata": {},
   "outputs": [],
   "source": [
    "def experiment_prompt(prompt, agent, env, rewards_storage, n_steps=100):\n",
    "    obs = env.reset()\n",
    "    for _ in range(n_steps):\n",
    "        action, _states = agent.predict(obs)\n",
    "        obs, rewards, dones, info = env.step(action)\n",
    "    rewards_storage[prompt] = (env.env_rewards.copy(), env.clip_rewards.copy())"
   ]
  },
  {
   "cell_type": "code",
   "execution_count": 25,
   "id": "cdc05740-9474-425e-94ce-819df6f2b9b8",
   "metadata": {},
   "outputs": [],
   "source": [
    "prompt_rewards = {}"
   ]
  },
  {
   "cell_type": "code",
   "execution_count": 26,
   "id": "c86a592a",
   "metadata": {},
   "outputs": [],
   "source": [
    "EXP_PATH = 'experiments/first_run/'\n",
    "env = gym.make('LunarLander-v2')\n",
    "cl_env = CLIPEnv(env, model, tokenizer, prompt, writer)\n",
    "prompt = 'Spaceship is on the landing pad'\n",
    "\n",
    "agent = DQN.load(f\"{EXP_PATH}/agent\", env=cl_env)\n",
    "experiment_prompt(prompt, agent, cl_env, prompt_rewards)"
   ]
  },
  {
   "cell_type": "code",
   "execution_count": 18,
   "id": "1433b31e",
   "metadata": {},
   "outputs": [],
   "source": [
    "cl_env.close()"
   ]
  },
  {
   "cell_type": "code",
   "execution_count": 27,
   "id": "178115d0",
   "metadata": {},
   "outputs": [
    {
     "data": {
      "text/plain": [
       "Text(0.5, 1.0, 'Env rewards (1 episode)')"
      ]
     },
     "execution_count": 27,
     "metadata": {},
     "output_type": "execute_result"
    },
    {
     "data": {
      "image/png": "[encoded data removed]",
      "text/plain": [
       "<Figure size 432x288 with 1 Axes>"
      ]
     },
     "metadata": {
      "needs_background": "light"
     },
     "output_type": "display_data"
    }
   ],
   "source": [
    "plt.plot(prompt_rewards['Spaceship is on the landing pad'][0][0])\n",
    "plt.title('Env rewards (1 episode)')\n",
    "plt.show()"
   ]
  },
  {
   "cell_type": "code",
   "execution_count": 23,
   "id": "8d6fbeff",
   "metadata": {},
   "outputs": [
    {
     "data": {
      "text/plain": [
       "Text(0.5, 1.0, 'CLIP rewards (1 episode)')"
      ]
     },
     "execution_count": 23,
     "metadata": {},
     "output_type": "execute_result"
    },
    {
     "data": {
      "image/png": "[encoded data removed]",
      "text/plain": [
       "<Figure size 432x288 with 1 Axes>"
      ]
     },
     "metadata": {
      "needs_background": "light"
     },
     "output_type": "display_data"
    }
   ],
   "source": [
    "plt.plot(prompt_rewards['Spaceship is on the landing pad'][1][0])\n",
    "plt.title('CLIP rewards (1 episode)')\n",
    "plt.show()"
   ]
  },
  {
   "cell_type": "code",
   "execution_count": null,
   "id": "1fe4ef97",
   "metadata": {},
   "outputs": [],
   "source": []
  }
 ],
 "metadata": {
  "kernelspec": {
   "display_name": "Python 3",
   "language": "python",
   "name": "python3"
  },
  "language_info": {
   "codemirror_mode": {
    "name": "ipython",
    "version": 3
   },
   "file_extension": ".py",
   "mimetype": "text/x-python",
   "name": "python",
   "nbconvert_exporter": "python",
   "pygments_lexer": "ipython3",
   "version": "3.8.15"
  },
  "vscode": {
   "interpreter": {
    "hash": "af2b1c113fb30453ab0f38cb28889d45a8255f9a09eebc90dd674ef9d0f3b315"
   }
  }
 },
 "nbformat": 4,
 "nbformat_minor": 5
}
