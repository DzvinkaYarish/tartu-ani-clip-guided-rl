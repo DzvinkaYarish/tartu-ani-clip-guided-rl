{
 "cells": [
  {
   "cell_type": "markdown",
   "id": "a3fa1a94-14ff-4b0a-a918-d4e5f69b28c5",
   "metadata": {},
   "source": [
    "```bash\n",
    "conda create --name ani python=3.8\n",
    "conda install -c conda-forge jupyterlab\n",
    "pip install open_clip_torch\n",
    "pip install stable-baselines3\n",
    "pip install gym[all]\n",
    "pip install pyglet==1.5.27\n",
    "pip install tensorboardX\n",
    "pip install stable-baselines3[extra]\n",
    "conda install -c anaconda ipywidgets\n",
    "```"
   ]
  },
  {
   "cell_type": "code",
   "execution_count": 1,
   "id": "2ee8f09a-40c5-4e52-bb46-75dc38d96a05",
   "metadata": {},
   "outputs": [],
   "source": [
    "import gym\n",
    "from stable_baselines3 import DQN\n",
    "import open_clip\n",
    "from PIL import Image\n",
    "import torch\n",
    "import numpy as np\n",
    "from tensorboardX import SummaryWriter\n",
    "import os"
   ]
  },
  {
   "cell_type": "code",
   "execution_count": 2,
   "id": "49ec5a4f",
   "metadata": {},
   "outputs": [],
   "source": [
    "def disable_view_window():\n",
    "        from gym.envs.classic_control import rendering\n",
    "        org_constructor = rendering.Viewer.__init__\n",
    "\n",
    "        def constructor(self, *args, **kwargs):\n",
    "            org_constructor(self, *args, **kwargs)\n",
    "            self.window.set_visible(visible=False)\n",
    "\n",
    "        rendering.Viewer.__init__ = constructor"
   ]
  },
  {
   "cell_type": "code",
   "execution_count": 3,
   "id": "741daef3",
   "metadata": {},
   "outputs": [],
   "source": [
    "disable_view_window()"
   ]
  },
  {
   "cell_type": "code",
   "execution_count": 4,
   "id": "c17a577c-3f55-40cc-9730-9e80b721dd83",
   "metadata": {},
   "outputs": [],
   "source": [
    "model, _, preprocess = open_clip.create_model_and_transforms('ViT-B-32-quickgelu', pretrained='laion400m_e32')\n",
    "tokenizer = open_clip.get_tokenizer('ViT-B-32-quickgelu')"
   ]
  },
  {
   "cell_type": "code",
   "execution_count": 5,
   "id": "03579506-1dc0-4fbe-b6d8-b9bc6ad250fe",
   "metadata": {},
   "outputs": [],
   "source": [
    "class CLIPEnv():\n",
    "    def __init__(self, env, clip_model, tokenizer, prompt, writer):\n",
    "        self.env = env\n",
    "        self.model = clip_model\n",
    "        self.tokenizer = tokenizer\n",
    "        self.text_features = self.model.encode_text(self.tokenizer([prompt]))\n",
    "        self.text_features /= self.text_features.norm(dim=-1, keepdim=True)\n",
    "        self.action_space = self.env.action_space\n",
    "        self.observation_space = self.env.observation_space\n",
    "        self.metadata = self.env.metadata\n",
    "        self.clip_rewards = []\n",
    "        self.actual_rewards = []\n",
    "        self.writer = writer\n",
    "        self.n_steps = 0\n",
    "        self.n_episodes = 0\n",
    "        \n",
    "        self.ep_reward = 0\n",
    "        self.ep_clip_reward = 0\n",
    "\n",
    "    \n",
    "    def reset(self):\n",
    "        self.clip_rewards = []\n",
    "        self.actual_rewards = []\n",
    "        return self.env.reset()\n",
    "    \n",
    "    def close(self):\n",
    "        return self.env.close()\n",
    "    \n",
    "    def step(self, action):\n",
    "        next_st, rwd, done, info = self.env.step(action)\n",
    "        img = self.env.render(mode=\"rgb_array\")\n",
    "        clip_rwd = self.get_clip_reward(img)\n",
    "        self.clip_rewards.append(clip_rwd)\n",
    "        self.actual_rewards.append(rwd)\n",
    "        self.writer.add_scalar('rewards/env_reward', rwd, self.n_steps)\n",
    "        self.writer.add_scalar('rewards/clip_reward', clip_rwd, self.n_steps)\n",
    "        \n",
    "        self.ep_reward += rwd\n",
    "        self.ep_clip_reward += clip_rwd\n",
    "        if done:\n",
    "            self.writer.add_scalar('episode_rewards/env_reward',  self.ep_reward, self.n_episodes)\n",
    "            self.writer.add_scalar('episode_rewards/clip_reward', self.ep_clip_reward , self.n_episodes)\n",
    "            self.n_episodes += 1\n",
    "            self.ep_reward = 0\n",
    "            self.ep_clip_reward = 0\n",
    "        \n",
    "        self.n_steps += 1\n",
    "\n",
    "        return next_st, rwd, done, info\n",
    "    \n",
    "    def get_clip_reward(self, state):\n",
    "        image = preprocess(Image.fromarray(np.uint8(state))).unsqueeze(0)\n",
    "        with torch.no_grad(), torch.cuda.amp.autocast():\n",
    "            image_features = self.model.encode_image(image)\n",
    "            image_features /= image_features.norm(dim=-1, keepdim=True)\n",
    "            # text_probs = (image_features @ self.text_features.T).softmax(dim=-1)\n",
    "            sim = (image_features @ self.text_features.T)\n",
    "        return sim.cpu().detach().numpy()[0][0]"
   ]
  },
  {
   "cell_type": "code",
   "execution_count": 6,
   "id": "15959332",
   "metadata": {},
   "outputs": [],
   "source": [
    "prompt_rewards = {}"
   ]
  },
  {
   "cell_type": "code",
   "execution_count": 7,
   "id": "2c9f0393-6e67-4f26-a621-603a1a731dd2",
   "metadata": {},
   "outputs": [
    {
     "name": "stdout",
     "output_type": "stream",
     "text": [
      "mkdir: cannot create directory ‘experiments’: File exists\n"
     ]
    }
   ],
   "source": [
    "!mkdir experiments"
   ]
  },
  {
   "cell_type": "code",
   "execution_count": 8,
   "id": "ecbc0d6a",
   "metadata": {},
   "outputs": [],
   "source": [
    "def experiment_prompt(prompt, agent, env, rewards_storage, n_steps=100):\n",
    "    obs = env.reset()\n",
    "    for _ in range(n_steps):\n",
    "        action, _states = agent.predict(obs)\n",
    "        obs, rewards, dones, info = env.step(action)\n",
    "    rewards_storage[prompt] = (env.clip_rewards.copy(), env.actual_rewards.copy())"
   ]
  },
  {
   "cell_type": "code",
   "execution_count": 9,
   "id": "c21621cb-7d5d-4ed0-8ceb-d2d1b2415ef9",
   "metadata": {
    "tags": []
   },
   "outputs": [
    {
     "data": {
      "application/vnd.jupyter.widget-view+json": {
       "model_id": "d5c58d4161c244f09955c73b64e6b01a",
       "version_major": 2,
       "version_minor": 0
      },
      "text/plain": [
       "Output()"
      ]
     },
     "metadata": {},
     "output_type": "display_data"
    },
    {
     "data": {
      "text/html": [
       "<pre style=\"white-space:pre;overflow-x:auto;line-height:normal;font-family:Menlo,'DejaVu Sans Mono',consolas,'Courier New',monospace\"></pre>\n"
      ],
      "text/plain": []
     },
     "metadata": {},
     "output_type": "display_data"
    },
    {
     "data": {
      "text/html": [
       "<pre style=\"white-space:pre;overflow-x:auto;line-height:normal;font-family:Menlo,'DejaVu Sans Mono',consolas,'Courier New',monospace\">\n",
       "</pre>\n"
      ],
      "text/plain": [
       "\n"
      ]
     },
     "metadata": {},
     "output_type": "display_data"
    }
   ],
   "source": [
    "env = gym.make('LunarLander-v2')\n",
    "\n",
    "agent = DQN('MlpPolicy', env, verbose=0)\n",
    "agent.learn(total_timesteps=int(2e5), progress_bar=True)\n",
    "# Save the agent\n",
    "agent.save(\"dqn_lunar\")\n"
   ]
  },
  {
   "cell_type": "code",
   "execution_count": 16,
   "id": "e056d04e",
   "metadata": {},
   "outputs": [],
   "source": [
    "EXP_PATH = 'experiments/test/'\n",
    "if not os.path.exists(EXP_PATH):\n",
    "    os.mkdir(EXP_PATH)\n",
    "\n",
    "writer = SummaryWriter(EXP_PATH)\n",
    "\n",
    "prompt = 'Spaceship is on the landing pad'\n",
    "env = gym.make('LunarLander-v2')\n",
    "cl_env = CLIPEnv(env, model, tokenizer, prompt, writer)\n",
    "\n",
    "agent = DQN.load(\"dqn_lunar\", env=env)"
   ]
  },
  {
   "cell_type": "code",
   "execution_count": 17,
   "id": "c86a592a",
   "metadata": {},
   "outputs": [],
   "source": [
    "experiment_prompt(prompt, agent, cl_env, prompt_rewards)"
   ]
  },
  {
   "cell_type": "code",
   "execution_count": 18,
   "id": "1433b31e",
   "metadata": {},
   "outputs": [],
   "source": [
    "cl_env.close()"
   ]
  },
  {
   "cell_type": "code",
   "execution_count": 19,
   "id": "b5762a31",
   "metadata": {},
   "outputs": [
    {
     "data": {
      "text/plain": [
       "{'Spaceship is on the landing pad': ([0.2454206,\n",
       "   0.24059787,\n",
       "   0.24483927,\n",
       "   0.23660997,\n",
       "   0.2323823,\n",
       "   0.23459877,\n",
       "   0.23713703,\n",
       "   0.2347091,\n",
       "   0.23443942,\n",
       "   0.23858619,\n",
       "   0.23638532,\n",
       "   0.23699845,\n",
       "   0.23481703,\n",
       "   0.24318741,\n",
       "   0.25054976,\n",
       "   0.24597184,\n",
       "   0.24537823,\n",
       "   0.2440202,\n",
       "   0.24452884,\n",
       "   0.24779414,\n",
       "   0.24604437,\n",
       "   0.24363619,\n",
       "   0.24282838,\n",
       "   0.25029612,\n",
       "   0.249405,\n",
       "   0.2393347,\n",
       "   0.24343999,\n",
       "   0.24555102,\n",
       "   0.25075674,\n",
       "   0.2486746,\n",
       "   0.25004837,\n",
       "   0.24391286,\n",
       "   0.24474302,\n",
       "   0.2483539,\n",
       "   0.24855988,\n",
       "   0.25214118,\n",
       "   0.24157108,\n",
       "   0.24064004,\n",
       "   0.24593714,\n",
       "   0.2568885,\n",
       "   0.24796695,\n",
       "   0.24356757,\n",
       "   0.24994701,\n",
       "   0.25307944,\n",
       "   0.2488609,\n",
       "   0.24561024,\n",
       "   0.24060369,\n",
       "   0.23945953,\n",
       "   0.2394996,\n",
       "   0.24659526,\n",
       "   0.24710086,\n",
       "   0.24898516,\n",
       "   0.24171649,\n",
       "   0.24798186,\n",
       "   0.24595012,\n",
       "   0.23742694,\n",
       "   0.24360675,\n",
       "   0.23605263,\n",
       "   0.24039504,\n",
       "   0.25157797,\n",
       "   0.23353204,\n",
       "   0.24621679,\n",
       "   0.25005558,\n",
       "   0.24123779,\n",
       "   0.24176702,\n",
       "   0.23329869,\n",
       "   0.24351414,\n",
       "   0.23804943,\n",
       "   0.2519567,\n",
       "   0.24775638,\n",
       "   0.25090343,\n",
       "   0.24997465,\n",
       "   0.24648288,\n",
       "   0.24705611,\n",
       "   0.24436402,\n",
       "   0.24313045,\n",
       "   0.24572995,\n",
       "   0.24576928,\n",
       "   0.24139348,\n",
       "   0.24324687,\n",
       "   0.24409004,\n",
       "   0.24538317,\n",
       "   0.2406345,\n",
       "   0.24327171,\n",
       "   0.24340111,\n",
       "   0.25032738,\n",
       "   0.25284755,\n",
       "   0.25460863,\n",
       "   0.2392565,\n",
       "   0.24621788,\n",
       "   0.24903528,\n",
       "   0.24694082,\n",
       "   0.23847309,\n",
       "   0.24979374,\n",
       "   0.24368009,\n",
       "   0.2439607,\n",
       "   0.24510315,\n",
       "   0.24204238,\n",
       "   0.24033934,\n",
       "   0.24635221],\n",
       "  [0.9160470105144907,\n",
       "   0.9663055868338131,\n",
       "   1.4887112819905053,\n",
       "   1.6665455600537495,\n",
       "   1.9764948957472666,\n",
       "   2.112608186783747,\n",
       "   1.4136949873272624,\n",
       "   0.2546083932773524,\n",
       "   0.14838393999520008,\n",
       "   -0.04556059305013946,\n",
       "   -0.19765086471946233,\n",
       "   -0.5191802301026758,\n",
       "   -0.36318951113818687,\n",
       "   -3.1978329291778946,\n",
       "   -1.5359794066855557,\n",
       "   -3.532799705514253,\n",
       "   -2.8349603911927828,\n",
       "   -1.5083137481011761,\n",
       "   -1.4574385673259656,\n",
       "   -2.030071666109495,\n",
       "   -1.4698944432449708,\n",
       "   -2.6002429949124517,\n",
       "   -1.376236592226462,\n",
       "   -0.2566795971513784,\n",
       "   -0.34051600802938536,\n",
       "   -1.158505830380932,\n",
       "   -1.0817116602258239,\n",
       "   -0.5525327417270194,\n",
       "   -0.2045174671578877,\n",
       "   0.01547836985961909,\n",
       "   -2.087022332370867,\n",
       "   -1.5278816914184847,\n",
       "   -1.6590872086177046,\n",
       "   0.48886579773686095,\n",
       "   -0.8947102840290302,\n",
       "   -1.015037061630095,\n",
       "   -0.21678533664609745,\n",
       "   -1.0349978197277665,\n",
       "   0.2985280418145749,\n",
       "   0.32532087933740855,\n",
       "   0.6713743530280396,\n",
       "   -0.5331250892158426,\n",
       "   -0.4220730378035739,\n",
       "   -0.5603695508039539,\n",
       "   -0.24586505281463927,\n",
       "   -0.03232442635375604,\n",
       "   -0.8529296265647759,\n",
       "   0.13627467365481152,\n",
       "   0.7320110327496081,\n",
       "   0.7459082474018157,\n",
       "   0.646367689627483,\n",
       "   0.6583302747074538,\n",
       "   0.2680501807111295,\n",
       "   -0.08782698209199566,\n",
       "   4.163419429962187,\n",
       "   0.37632972073345283,\n",
       "   -0.503817405278993,\n",
       "   5.1868193128119175,\n",
       "   0.4695049264582576,\n",
       "   0.2191448460734023,\n",
       "   2.8056608236314005,\n",
       "   -0.5574815857702038,\n",
       "   -0.7198086977057858,\n",
       "   2.9055821180572368,\n",
       "   -0.3491225400616702,\n",
       "   0.20968076111772121,\n",
       "   0.8946854216445785,\n",
       "   0.3001524997922161,\n",
       "   -0.8300071065427119,\n",
       "   -1.782623964737087,\n",
       "   1.4648121245107006,\n",
       "   1.060570733045978,\n",
       "   -0.45998992962795454,\n",
       "   -1.7849636309477888,\n",
       "   1.3733977022796182,\n",
       "   -1.5196294305465472,\n",
       "   0.5676115771501997,\n",
       "   1.5326810977572904,\n",
       "   -0.9006820738188595,\n",
       "   0.25873605330160104,\n",
       "   1.6312038004219005,\n",
       "   -1.7914479515707626,\n",
       "   -1.2155268666044947,\n",
       "   1.944421816017467,\n",
       "   0.791956072566802,\n",
       "   -1.0008373259624819,\n",
       "   0.8667153483962806,\n",
       "   1.1515462777422385,\n",
       "   0.7761338797634039,\n",
       "   2.077091332865791,\n",
       "   0.10552035898747364,\n",
       "   -0.4843916725971155,\n",
       "   1.2725604864405693,\n",
       "   0.9459898619213345,\n",
       "   0.8484005827030046,\n",
       "   -1.2834805637980367,\n",
       "   -0.8014232748956147,\n",
       "   -1.4607524912657255,\n",
       "   -2.1571855793650614,\n",
       "   -0.4489220477826723])}"
      ]
     },
     "execution_count": 19,
     "metadata": {},
     "output_type": "execute_result"
    }
   ],
   "source": [
    "prompt_rewards"
   ]
  },
  {
   "cell_type": "code",
   "execution_count": 20,
   "id": "178115d0",
   "metadata": {},
   "outputs": [
    {
     "data": {
      "text/plain": [
       "[<matplotlib.lines.Line2D at 0x7fa10401ef10>]"
      ]
     },
     "execution_count": 20,
     "metadata": {},
     "output_type": "execute_result"
    },
    {
     "data": {
      "image/png": "[encoded data removed]",
      "text/plain": [
       "<Figure size 432x288 with 1 Axes>"
      ]
     },
     "metadata": {
      "needs_background": "light"
     },
     "output_type": "display_data"
    }
   ],
   "source": [
    "import matplotlib.pyplot as plt\n",
    "plt.plot(prompt_rewards['Spaceship is on the landing pad'][1])"
   ]
  },
  {
   "cell_type": "code",
   "execution_count": 21,
   "id": "8d6fbeff",
   "metadata": {},
   "outputs": [
    {
     "data": {
      "text/plain": [
       "[<matplotlib.lines.Line2D at 0x7fa10ae65a60>]"
      ]
     },
     "execution_count": 21,
     "metadata": {},
     "output_type": "execute_result"
    },
    {
     "data": {
      "image/png": "[encoded data removed]",
      "text/plain": [
       "<Figure size 432x288 with 1 Axes>"
      ]
     },
     "metadata": {
      "needs_background": "light"
     },
     "output_type": "display_data"
    }
   ],
   "source": [
    "plt.plot(prompt_rewards['Spaceship is on the landing pad'][0])"
   ]
  },
  {
   "cell_type": "code",
   "execution_count": null,
   "id": "1fe4ef97",
   "metadata": {},
   "outputs": [],
   "source": []
  }
 ],
 "metadata": {
  "kernelspec": {
   "display_name": "Python 3",
   "language": "python",
   "name": "python3"
  },
  "language_info": {
   "codemirror_mode": {
    "name": "ipython",
    "version": 3
   },
   "file_extension": ".py",
   "mimetype": "text/x-python",
   "name": "python",
   "nbconvert_exporter": "python",
   "pygments_lexer": "ipython3",
   "version": "3.8.15"
  },
  "vscode": {
   "interpreter": {
    "hash": "af2b1c113fb30453ab0f38cb28889d45a8255f9a09eebc90dd674ef9d0f3b315"
   }
  }
 },
 "nbformat": 4,
 "nbformat_minor": 5
}
