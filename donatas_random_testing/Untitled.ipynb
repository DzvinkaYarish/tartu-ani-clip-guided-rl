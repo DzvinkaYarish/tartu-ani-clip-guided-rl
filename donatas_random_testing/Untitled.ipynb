{
 "cells": [
  {
   "cell_type": "code",
   "execution_count": 1,
   "id": "3604c777",
   "metadata": {},
   "outputs": [],
   "source": [
    "import gym\n",
    "import numpy as np\n",
    "from tqdm.notebook import tqdm\n",
    "\n",
    "from stable_baselines3 import PPO, DQN, DDPG\n",
    "from stable_baselines3.common.vec_env import DummyVecEnv, SubprocVecEnv\n",
    "from stable_baselines3.common.env_util import make_vec_env\n",
    "from stable_baselines3.common.utils import set_random_seed\n",
    "from stable_baselines3.common.env_util import make_vec_env\n",
    "from stable_baselines3.common.noise import NormalActionNoise, OrnsteinUhlenbeckActionNoise\n",
    "\n",
    "def make_env(env_id, rank, seed=0):\n",
    "    \"\"\"\n",
    "    Utility function for multiprocessed env.\n",
    "\n",
    "    :param env_id: (str) the environment ID\n",
    "    :param num_env: (int) the number of environments you wish to have in subprocesses\n",
    "    :param seed: (int) the inital seed for RNG\n",
    "    :param rank: (int) index of the subprocess\n",
    "    \"\"\"\n",
    "    def _init():\n",
    "        env = gym.make(env_id)\n",
    "        env.seed(seed + rank)\n",
    "        return env\n",
    "    set_random_seed(seed)\n",
    "    return _init"
   ]
  },
  {
   "cell_type": "code",
   "execution_count": 2,
   "id": "d49b0527",
   "metadata": {},
   "outputs": [],
   "source": [
    "env_id = 'MountainCar-v0'\n",
    "num_cpu = 4  # Number of processes to use"
   ]
  },
  {
   "cell_type": "code",
   "execution_count": 6,
   "id": "dcc60e38",
   "metadata": {},
   "outputs": [
    {
     "data": {
      "application/vnd.jupyter.widget-view+json": {
       "model_id": "c72fbc13a230436bb68933b259bcdf9e",
       "version_major": 2,
       "version_minor": 0
      },
      "text/plain": [
       "Output()"
      ]
     },
     "metadata": {},
     "output_type": "display_data"
    }
   ],
   "source": [
    "# Create the vectorized environment\n",
    "env = gym.make(env_id)\n",
    "\n",
    "# model = DQN(\"MlpPolicy\", \n",
    "#             env, \n",
    "#             verbose=0, \n",
    "#             learning_starts=1000, \n",
    "#             buffer_size=15000, \n",
    "#             target_update_interval=500,\n",
    "#             tensorboard_log='./logs/a',\n",
    "#             device='cuda',\n",
    "#             exploration_fraction=0.6,\n",
    "#             exploration_initial_eps=0.8,\n",
    "#             exploration_final_eps=0.2)\n",
    "# model = PPO(\n",
    "#     policy=\"MlpPolicy\",\n",
    "#     env=env,\n",
    "#     seed=0,\n",
    "#     #batch_size=256,\n",
    "#     ent_coef=0.00429,\n",
    "#     learning_rate=7.77e-05,\n",
    "#     n_epochs=10,\n",
    "#     n_steps=8,\n",
    "#     gae_lambda=0.9,\n",
    "#     gamma=0.9999,\n",
    "#     clip_range=0.1,\n",
    "#     max_grad_norm =5,\n",
    "#     vf_coef=0.19,\n",
    "#     use_sde=True,\n",
    "#     policy_kwargs=dict(log_std_init=-3.29, ortho_init=False),\n",
    "#     verbose=0,\n",
    "#     tensorboard_log='./logs'\n",
    "#     )\n",
    "\n",
    "n_actions = env.action_space.shape[-1]\n",
    "action_noise = NormalActionNoise(mean=np.zeros(n_actions), sigma=0.1 * np.ones(n_actions))\n",
    "\n",
    "model = DDPG('MlpPolicy', env, action_noise=action_noise, device='cuda', tensorboard_log='./logs/a')\n",
    "\n",
    "# model = PPO(\"MlpPolicy\", env, verbose=0, device='cuda',tensorboard_log='./logs')\n",
    "\n",
    "TIMESTEPS = 100_000\n",
    "model.learn(total_timesteps=TIMESTEPS,reset_num_timesteps=False,progress_bar=True)\n"
   ]
  },
  {
   "cell_type": "code",
   "execution_count": 4,
   "id": "9cadba92",
   "metadata": {},
   "outputs": [],
   "source": [
    "env = gym.make(env_id)\n",
    "env._max_episode_steps = 1000\n",
    "model = DQN.load(f\"agent\", env=env)\n",
    "obs = env.reset()\n",
    "for _ in range(10_000):\n",
    "\n",
    "    action, _states = model.predict(obs)\n",
    "    obs, rewards, dones, info = env.step(action)\n",
    "    env.render()\n",
    "\n",
    "env.close()"
   ]
  },
  {
   "cell_type": "code",
   "execution_count": null,
   "id": "f60e57fa",
   "metadata": {},
   "outputs": [],
   "source": []
  }
 ],
 "metadata": {
  "kernelspec": {
   "display_name": "ani_env",
   "language": "python",
   "name": "ani_env"
  },
  "language_info": {
   "codemirror_mode": {
    "name": "ipython",
    "version": 3
   },
   "file_extension": ".py",
   "mimetype": "text/x-python",
   "name": "python",
   "nbconvert_exporter": "python",
   "pygments_lexer": "ipython3",
   "version": "3.8.15"
  }
 },
 "nbformat": 4,
 "nbformat_minor": 5
}
